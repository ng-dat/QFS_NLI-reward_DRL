{
 "cells": [
  {
   "cell_type": "code",
   "execution_count": 1,
   "id": "076ec1ff",
   "metadata": {},
   "outputs": [],
   "source": [
    "import json\n",
    "import math"
   ]
  },
  {
   "cell_type": "markdown",
   "id": "835b7a94",
   "metadata": {},
   "source": [
    "# Load Data"
   ]
  },
  {
   "cell_type": "code",
   "execution_count": 2,
   "id": "30e18d73",
   "metadata": {},
   "outputs": [],
   "source": [
    "data_set = {\n",
    "    'train_data': [],\n",
    "    'test_data': [],\n",
    "    'val_data': [],\n",
    "    'train_meetings': [],\n",
    "    'test_meetings': [],\n",
    "    'val_meetings': [],\n",
    "}\n",
    "\n",
    "for set_name in ['train', 'test', 'val']:\n",
    "    with open('./{}.jsonl'.format(set_name)) as f:\n",
    "        for line_count, line in enumerate(f):\n",
    "            data_set['{}_data'.format(set_name)].append(json.loads(line))\n",
    "\n",
    "    train_meeting = []\n",
    "    with open('./{}-meetings.jsonl'.format(set_name)) as f:\n",
    "        for line_count, line in enumerate(f):\n",
    "            data_set['{}_meetings'.format(set_name)].append(json.loads(line))"
   ]
  },
  {
   "cell_type": "markdown",
   "id": "eb0cf53e",
   "metadata": {},
   "source": [
    "# Merge Data\n",
    "Merge: Meeting -> Source, Query -> Query, Answer -> Target"
   ]
  },
  {
   "cell_type": "code",
   "execution_count": 3,
   "id": "b37e22c9",
   "metadata": {},
   "outputs": [],
   "source": [
    "for set_name in ['train', 'test', 'val']:\n",
    "    meeting_lookup = {}\n",
    "    for meeting in data_set['{}_meetings'.format(set_name)]:\n",
    "        meeting_id = meeting['meeting_id']\n",
    "        source = ' '.join(meeting['meeting_transcripts'])\n",
    "        meeting_lookup[meeting_id] = source\n",
    "\n",
    "    output_path = '../data/{}.jsonl'.format(set_name)\n",
    "    with open(output_path, 'w+') as out:\n",
    "        for data in data_set['{}_data'.format(set_name)]:\n",
    "            out.write(\n",
    "                json.dumps({\n",
    "                    'source': meeting_lookup[data['meeting_id']],\n",
    "                    'query': data['query'],\n",
    "                    'target': data['answer']\n",
    "                }) + '\\n'\n",
    "            )"
   ]
  }
 ],
 "metadata": {
  "kernelspec": {
   "display_name": "Python 3 (ipykernel)",
   "language": "python",
   "name": "python3"
  },
  "language_info": {
   "codemirror_mode": {
    "name": "ipython",
    "version": 3
   },
   "file_extension": ".py",
   "mimetype": "text/x-python",
   "name": "python",
   "nbconvert_exporter": "python",
   "pygments_lexer": "ipython3",
   "version": "3.8.9"
  }
 },
 "nbformat": 4,
 "nbformat_minor": 5
}
